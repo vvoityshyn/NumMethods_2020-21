{
 "cells": [
  {
   "cell_type": "markdown",
   "metadata": {},
   "source": [
    "# Interpolation Problem Statement"
   ]
  },
  {
   "cell_type": "markdown",
   "metadata": {},
   "source": [
    "Given a set of nodes $\\{x_i, 0 \\leq i \\leq n\\}$ and corresponding data values $\\{y_i, 0 \\leq i \\leq n\\}$, find the polynomial $p_n(x)$ of degree less than or equal to $n$, such that $$p_n(x_i)=y_i, 0 \\leq i \\leq n.$$"
   ]
  },
  {
   "cell_type": "markdown",
   "metadata": {},
   "source": [
    "# Lagrange Interpolation"
   ]
  },
  {
   "cell_type": "markdown",
   "metadata": {},
   "source": [
    "In general, plolynomial of $n$ degree is define as follows\n",
    "$$p_n(x)=a_0x^n+a_1x^{n-1}+...+a_{n-1}x+a_n.$$\n",
    "For example, for $n=2$\n",
    "$$p_2(x)=ax^2+bx+c.$$\n",
    "The Lagrange polynomyal is defined as follows\n",
    "$$p_n(x) = \\sum_{k=0}^{n}y_kL_k^{(n)}(x)$$\n",
    "where $L_k^{(n)}(x)$ is defined as\n",
    "$$L_k^{(n)}(x)=\\prod_{\\begin{array}{c}i=0\\\\ i \\neq k\\end{array}}^{n}\\frac{x-x_i}{x_k-x_i}$$\n",
    "the polynomials $L_k^{(n)}(x)$ have an interesting propoerty\n",
    "$$L_i^{(n)}(x_j)=\\delta_{ij}=\n",
    "\\begin{cases}\n",
    "  1, i=j,\\\\    \n",
    "  0, i \\neq j.    \n",
    "\\end{cases}$$\n",
    "<i><b>Note:</b> $\\delta_{ij}$ is called Kronecker delta.</i><br><br>\n",
    "It can be proved that the polynomial $p_n(x)$ exists and is unique."
   ]
  },
  {
   "cell_type": "markdown",
   "metadata": {},
   "source": [
    "## Example #1\n",
    "Find the polynomial of degree 2 that interpolates at the data points\n",
    "$$x_0=0, y_0=1, x_1=1, y_1=2, x_2=4, y_2=2.$$\n",
    "The right answer is\n",
    "$$p_2(t)=-\\frac{1}{4}t^2+\\frac{5}{4}t+1.$$\n",
    "By definition,\n",
    "$$p_2(x_i)=y_i$$\n",
    "that is\n",
    "$$p_2(0)=1$$\n",
    "$$p_2(1)=2$$\n",
    "$$p_2(4)=2$$\n",
    "Lets visualize the given data points:"
   ]
  },
  {
   "cell_type": "code",
   "execution_count": 9,
   "metadata": {
    "scrolled": true
   },
   "outputs": [
    {
     "name": "stdout",
     "output_type": "stream",
     "text": [
      "Lagrange polynomial values in the data points:\n",
      "p(0.000000) = 1.000000\n",
      "p(1.000000) = 2.000000\n",
      "p(4.000000) = 2.000000\n"
     ]
    },
    {
     "data": {
      "image/png": "[encoded data removed]",
      "text/plain": [
       "<Figure size 432x288 with 1 Axes>"
      ]
     },
     "metadata": {
      "needs_background": "light"
     },
     "output_type": "display_data"
    }
   ],
   "source": [
    "from matplotlib import pyplot as plt\n",
    "\n",
    "#data points\n",
    "x = [0.0, 1.0, 4.0]\n",
    "y = [1.0, 2.0, 2.0]\n",
    "\n",
    "#Lagrange interpolation\n",
    "def lagrange(_x, x, y):\n",
    "    p = 0.0 #Lagrange polynomial value\n",
    "    n = len(x)    \n",
    "    for k in range(n):        \n",
    "        L = 1.0\n",
    "        for i in range(n):\n",
    "            if i != k:                \n",
    "                L *= (_x - x[i]) / (x[k] - x[i])                                \n",
    "        p += y[k] * L\n",
    "    return p\n",
    "\n",
    "print(\"Lagrange polynomial values in the data points:\")\n",
    "for xi in x:\n",
    "    yi = lagrange(xi, x, y)\n",
    "    print(\"p(%f) = %f\" %(xi, yi))\n",
    "    \n",
    "N = 60\n",
    "h = 0.1\n",
    "xi = -1\n",
    "lx = []\n",
    "ly = []\n",
    "for j in range(N):\n",
    "    yi = lagrange(xi, x, y)\n",
    "    lx.append(xi)\n",
    "    ly.append(yi)\n",
    "    xi += h\n",
    "    \n",
    "    \n",
    "plt.xlabel(\"x\")\n",
    "plt.ylabel(\"y\")\n",
    "\n",
    "#visualization of data points\n",
    "plt.scatter(x, y)\n",
    "#visualize Lagrange polynomial    \n",
    "plt.plot(lx, ly)\n",
    "\n",
    "plt.show()\n"
   ]
  },
  {
   "cell_type": "markdown",
   "metadata": {},
   "source": [
    "# Newton Interpolation"
   ]
  },
  {
   "cell_type": "markdown",
   "metadata": {},
   "source": [
    "Given a set of $n+1$ data points:\n",
    "$$(x_0,y_0), (x_1,y_1), ..., (x_n,y_n)$$\n",
    "where $x_i \\neq x_j$ for each $i \\neq j$.<br>\n",
    "The Newton interpolation polynomial is defined as\n",
    "$$N(x)=\\sum_{k=0}^{n}a_kn_k(x)$$\n",
    "where $n_k(x)$ are Newton basis polynomials\n",
    "$$n_k(x)=\\prod_{i=0}^{k-1}(x-x_i)$$\n",
    "and the coeficients $a_k$ are divided differences:\n",
    "$$a_k=[y_0,...,y_k].$$\n",
    "The divided differences are defined as follows:\n",
    "$$a_0=y_0$$\n",
    "$$a_1=[y_0,y_1]=\\frac{y_1-y_0}{x_1-x_0}$$\n",
    "$$a_2=[y_0,y_1,y_2]=\\frac{[y_1,y_2]-[y_0,y_1]}{x_2-x_0}$$\n",
    "$$...$$\n",
    "$$a_k=[y_0,...,y_k]=\\frac{[y_1,...,y_k]-[y_0,...,y_{k-1}]}{x_k-x_0}$$"
   ]
  },
  {
   "cell_type": "markdown",
   "metadata": {},
   "source": [
    "## Example #2"
   ]
  },
  {
   "cell_type": "markdown",
   "metadata": {},
   "source": [
    "Construct the polynomial of degree 3 that interplates the data\n",
    "$$x_0=1, y_0=1, x_1=2, y_1 = \\frac{1}{2}, x_2=4, y_2=\\frac{1}{4}, x_3=3, y_3=\\frac{1}{3}$$\n",
    "The right answer is\n",
    "$$p(t)=\\frac{1}{24}(50-35t+10t^2-t^3).$$\n",
    "So, the table with divided differences is the following:"
   ]
  },
  {
   "cell_type": "code",
   "execution_count": 11,
   "metadata": {},
   "outputs": [
    {
     "name": "stdout",
     "output_type": "stream",
     "text": [
      "Divided Differences:  [1.0, -0.5, 0.16666666666666666, -0.04166666666666666]\n",
      "N(1.000000) = 1.000000\n",
      "N(2.000000) = 0.500000\n",
      "N(3.000000) = 0.333333\n",
      "N(4.000000) = 0.250000\n"
     ]
    },
    {
     "data": {
      "image/png": "[encoded data removed]",
      "text/plain": [
       "<Figure size 432x288 with 1 Axes>"
      ]
     },
     "metadata": {
      "needs_background": "light"
     },
     "output_type": "display_data"
    }
   ],
   "source": [
    "from matplotlib import pyplot as plt\n",
    "\n",
    "#data points\n",
    "x = [1.0, 2.0, 3.0, 4.0]\n",
    "y = [1.0, 0.5, 1.0 / 3.0, 0.25]\n",
    "\n",
    "def diff(i, k, x, y):\n",
    "    if k == 0:\n",
    "        return y[i]\n",
    "    elif k == 1:\n",
    "        return (y[i + 1] - y[i]) / (x[i + 1] - x[i])\n",
    "    else:\n",
    "        return (diff(i + 1, k - 1, x, y) - diff(i, k - 1, x, y)) / (x[i + k] - x[i])\n",
    "\n",
    "#divided differences\n",
    "n = len(x)\n",
    "dy = []\n",
    "for k in range(n):\n",
    "    dy.append(diff(0, k, x, y))\n",
    "print(\"Divided Differences: \", dy)\n",
    "\n",
    "#Newton basis polynomials\n",
    "def n(_x, k, x):\n",
    "    v = 1\n",
    "    for k in range(k):\n",
    "        v *= (_x - x[k])\n",
    "    return v\n",
    "\n",
    "#Newton polynomials\n",
    "def N(_x, x, dy):\n",
    "    v = 0\n",
    "    for k in range(len(x)):\n",
    "        v += dy[k] * n(_x, k, x)\n",
    "    return v\n",
    "\n",
    "#Value of the Newton polynomial in the data points\n",
    "for i in range(len(x)):\n",
    "    print(\"N(%f) = %f\" %(x[i], N(x[i], x, dy)))\n",
    "\n",
    "#visualization of data points\n",
    "plt.xlabel(\"x\")\n",
    "plt.ylabel(\"y\")\n",
    "plt.scatter(x, y)\n",
    "\n",
    "#visualization of the Newton polynomial\n",
    "h = 0.1\n",
    "xi = 0\n",
    "nx = []\n",
    "ny = []\n",
    "for j in range(50):\n",
    "    nx.append(xi)\n",
    "    ny.append(N(xi, x, dy))\n",
    "    xi += h\n",
    "plt.plot(nx, ny)\n",
    "\n",
    "plt.show()"
   ]
  }
 ],
 "metadata": {
  "kernelspec": {
   "display_name": "Python 3",
   "language": "python",
   "name": "python3"
  },
  "language_info": {
   "codemirror_mode": {
    "name": "ipython",
    "version": 3
   },
   "file_extension": ".py",
   "mimetype": "text/x-python",
   "name": "python",
   "nbconvert_exporter": "python",
   "pygments_lexer": "ipython3",
   "version": "3.8.5"
  }
 },
 "nbformat": 4,
 "nbformat_minor": 4
}
